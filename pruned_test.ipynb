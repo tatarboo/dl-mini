{
 "cells": [
  {
   "cell_type": "code",
   "execution_count": 63,
   "metadata": {},
   "outputs": [],
   "source": [
    "import torch\n",
    "import torch.nn as nn\n",
    "from utils.readData import read_dataset\n",
    "from utils.ResNet import ResNet18"
   ]
  },
  {
   "cell_type": "code",
   "execution_count": 64,
   "metadata": {},
   "outputs": [
    {
     "name": "stdout",
     "output_type": "stream",
     "text": [
      "Files already downloaded and verified\n",
      "Files already downloaded and verified\n",
      "Files already downloaded and verified\n"
     ]
    }
   ],
   "source": [
    "# set device and parameters\n",
    "device = 'cuda' if torch.cuda.is_available() else 'cpu'\n",
    "n_class = 10\n",
    "batch_size = 100\n",
    "train_loader,valid_loader,test_loader = read_dataset(batch_size=batch_size,pic_path='dataset')"
   ]
  },
  {
   "cell_type": "code",
   "execution_count": 65,
   "metadata": {},
   "outputs": [],
   "source": [
    "#loading model\n",
    "model = ResNet18()\n",
    "model.conv1 = nn.Conv2d(in_channels=3, out_channels=64, kernel_size=3, stride=1, padding=1, bias=False)\n",
    "model.fc = torch.nn.Linear(512, n_class) \n",
    "model.load_state_dict(torch.load('checkpoint/resnet18_cifar10.pt'))\n",
    "model = model.to(device)"
   ]
  },
  {
   "cell_type": "code",
   "execution_count": 66,
   "metadata": {},
   "outputs": [
    {
     "name": "stdout",
     "output_type": "stream",
     "text": [
      "Total number of parameters after pruning:  11173962\n"
     ]
    }
   ],
   "source": [
    "# Count the number of parameters after pruning\n",
    "total_params_pruned = sum(p.numel() for p in model.parameters() if p.requires_grad)\n",
    "print(\"Total number of parameters after pruning: \", total_params_pruned)\n"
   ]
  },
  {
   "cell_type": "code",
   "execution_count": 67,
   "metadata": {},
   "outputs": [
    {
     "name": "stdout",
     "output_type": "stream",
     "text": [
      "Total number of non-zero parameters after pruning:  4924792\n"
     ]
    }
   ],
   "source": [
    "import torch.nn.utils.prune as prune\n",
    "import torch.optim as optim\n",
    "\n",
    "# Prune the model\n",
    "parameters_to_prune = []\n",
    "for name, module in model.named_modules():\n",
    "    if isinstance(module, nn.Conv2d):\n",
    "        parameters_to_prune.append((module, 'weight'))\n",
    "\n",
    "prune.global_unstructured(\n",
    "    parameters_to_prune,\n",
    "    pruning_method=prune.L1Unstructured,\n",
    "    amount=0.56\n",
    ")\n",
    "\n",
    "\n",
    "# Remove pruned parameters\n",
    "for module, name in parameters_to_prune:\n",
    "    prune.remove(module, name)\n",
    "    \n",
    "# Count the number of parameters after pruning \n",
    "total_params_pruned = sum(torch.count_nonzero(p).item() for p in model.parameters() if p.requires_grad)\n",
    "print(\"Total number of non-zero parameters after pruning: \", total_params_pruned)\n"
   ]
  },
  {
   "cell_type": "code",
   "execution_count": 68,
   "metadata": {},
   "outputs": [
    {
     "name": "stdout",
     "output_type": "stream",
     "text": [
      "Accuracy of the pruned model on the test data: 94.47%\n"
     ]
    }
   ],
   "source": [
    "\n",
    "model.eval()\n",
    "correct = 0\n",
    "total = 0\n",
    "\n",
    "with torch.no_grad():\n",
    "    for data, target in test_loader:\n",
    "        data = data.to(device)\n",
    "        target = target.to(device)\n",
    "        output = model(data)\n",
    "        _, predicted = torch.max(output.data, 1)\n",
    "        total += target.size(0)\n",
    "        correct += (predicted == target).sum().item()\n",
    "\n",
    "accuracy = 100 * correct / total\n",
    "print('Accuracy of the pruned model on the test data: {:.2f}%'.format(accuracy))\n"
   ]
  }
 ],
 "metadata": {
  "kernelspec": {
   "display_name": "myenv2",
   "language": "python",
   "name": "python3"
  },
  "language_info": {
   "codemirror_mode": {
    "name": "ipython",
    "version": 3
   },
   "file_extension": ".py",
   "mimetype": "text/x-python",
   "name": "python",
   "nbconvert_exporter": "python",
   "pygments_lexer": "ipython3",
   "version": "3.9.12"
  }
 },
 "nbformat": 4,
 "nbformat_minor": 2
}
