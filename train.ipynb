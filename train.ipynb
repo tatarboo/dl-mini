{
 "cells": [
  {
   "cell_type": "code",
   "execution_count": 24,
   "metadata": {},
   "outputs": [],
   "source": [
    "import torch\n",
    "import numpy as np\n",
    "from tqdm import tqdm\n",
    "import torch.nn as nn\n",
    "import torch.optim as optim\n",
    "from utils.readData import read_dataset\n",
    "from utils.ResNet import ResNet18\n",
    "import torchvision\n"
   ]
  },
  {
   "cell_type": "code",
   "execution_count": 25,
   "metadata": {},
   "outputs": [],
   "source": [
    "# set device\n",
    "device = 'cuda' if torch.cuda.is_available() else 'cpu'"
   ]
  },
  {
   "cell_type": "markdown",
   "metadata": {},
   "source": [
    "We down the CIFAR-10 dataset by torchvision.datasets.CIFAR10()."
   ]
  },
  {
   "cell_type": "code",
   "execution_count": 26,
   "metadata": {},
   "outputs": [],
   "source": [
    "# down CIFAR10 dataset\n",
    "# torchvision.datasets.CIFAR10(root='dataset',download=True) "
   ]
  },
  {
   "cell_type": "markdown",
   "metadata": {},
   "source": [
    "Data augmentation"
   ]
  },
  {
   "cell_type": "code",
   "execution_count": 27,
   "metadata": {},
   "outputs": [
    {
     "name": "stdout",
     "output_type": "stream",
     "text": [
      "Files already downloaded and verified\n",
      "Files already downloaded and verified\n",
      "Files already downloaded and verified\n"
     ]
    }
   ],
   "source": [
    "# read data and arguement\n",
    "batch_size = 128\n",
    "train_loader,valid_loader,test_loader = read_dataset(batch_size=batch_size,pic_path='dataset')"
   ]
  },
  {
   "cell_type": "markdown",
   "metadata": {},
   "source": [
    "Loading and modifying the model. The 7x7 downsampling convolution and maxpooling operation of ResNet18 network is easy to lose information. Here we use a 3x3 downsampling convolution and delete maxpooling operation. This makes the receptive field larger and learns more information.\n"
   ]
  },
  {
   "cell_type": "code",
   "execution_count": 28,
   "metadata": {},
   "outputs": [],
   "source": [
    "n_class = 10\n",
    "model = ResNet18()\n",
    "model.conv1 = nn.Conv2d(in_channels=3, out_channels=64, kernel_size=3, stride=1, padding=1, bias=False)\n",
    "model.fc = torch.nn.Linear(512, n_class) \n",
    "model = model.to(device)"
   ]
  },
  {
   "cell_type": "code",
   "execution_count": 29,
   "metadata": {},
   "outputs": [],
   "source": [
    "#Cross-entropy loss function\n",
    "criterion = nn.CrossEntropyLoss().to(device)"
   ]
  },
  {
   "cell_type": "markdown",
   "metadata": {},
   "source": [
    "Training the model. We use the SGD optimizer and a dynamic lr. If the loss of the validation set trained after 10 epochs does not decrease, the lr will be halved. The model is trained for 100 epochs."
   ]
  },
  {
   "cell_type": "code",
   "execution_count": 30,
   "metadata": {},
   "outputs": [],
   "source": [
    "n_epochs = 100\n",
    "valid_loss_min = np.Inf # track change in validation loss\n",
    "accuracy = []\n",
    "lr = 0.1\n",
    "counter = 0\n",
    "\n",
    "trainloss_list = []\n",
    "validloss_list = []\n"
   ]
  },
  {
   "cell_type": "code",
   "execution_count": 31,
   "metadata": {},
   "outputs": [
    {
     "name": "stderr",
     "output_type": "stream",
     "text": [
      "  0%|          | 0/100 [00:00<?, ?it/s]"
     ]
    },
    {
     "name": "stdout",
     "output_type": "stream",
     "text": [
      "Accuracy: 30.043512658227847 %\n",
      "Epoch: 1 \tTraining Loss: 2.148593 \tValidation Loss: 1.836193\n",
      "Validation loss decreased (inf --> 1.836193).  Saving model ...\n"
     ]
    },
    {
     "name": "stderr",
     "output_type": "stream",
     "text": [
      "  1%|          | 1/100 [00:36<1:00:59, 36.96s/it]"
     ]
    },
    {
     "name": "stdout",
     "output_type": "stream",
     "text": [
      "Accuracy: 39.76463607594937 %\n",
      "Epoch: 2 \tTraining Loss: 1.649852 \tValidation Loss: 1.627810\n",
      "Validation loss decreased (1.836193 --> 1.627810).  Saving model ...\n"
     ]
    },
    {
     "name": "stderr",
     "output_type": "stream",
     "text": [
      "  2%|▏         | 2/100 [01:13<59:52, 36.66s/it]  "
     ]
    },
    {
     "name": "stdout",
     "output_type": "stream",
     "text": [
      "Accuracy: 47.09256329113924 %\n",
      "Epoch: 3 \tTraining Loss: 1.443254 \tValidation Loss: 1.442001\n",
      "Validation loss decreased (1.627810 --> 1.442001).  Saving model ...\n"
     ]
    },
    {
     "name": "stderr",
     "output_type": "stream",
     "text": [
      "  3%|▎         | 3/100 [01:50<59:33, 36.84s/it]"
     ]
    },
    {
     "name": "stdout",
     "output_type": "stream",
     "text": [
      "Accuracy: 52.877768987341774 %\n",
      "Epoch: 4 \tTraining Loss: 1.285003 \tValidation Loss: 1.325661\n",
      "Validation loss decreased (1.442001 --> 1.325661).  Saving model ...\n"
     ]
    },
    {
     "name": "stderr",
     "output_type": "stream",
     "text": [
      "  4%|▍         | 4/100 [02:27<58:57, 36.84s/it]"
     ]
    },
    {
     "name": "stdout",
     "output_type": "stream",
     "text": [
      "Accuracy: 62.11431962025316 %\n",
      "Epoch: 5 \tTraining Loss: 1.160895 \tValidation Loss: 1.036932\n",
      "Validation loss decreased (1.325661 --> 1.036932).  Saving model ...\n"
     ]
    },
    {
     "name": "stderr",
     "output_type": "stream",
     "text": [
      "  6%|▌         | 6/100 [03:43<58:49, 37.55s/it]"
     ]
    },
    {
     "name": "stdout",
     "output_type": "stream",
     "text": [
      "Accuracy: 55.80498417721519 %\n",
      "Epoch: 6 \tTraining Loss: 1.059261 \tValidation Loss: 1.306191\n"
     ]
    },
    {
     "name": "stderr",
     "output_type": "stream",
     "text": [
      "  7%|▋         | 7/100 [04:21<58:42, 37.88s/it]"
     ]
    },
    {
     "name": "stdout",
     "output_type": "stream",
     "text": [
      "Accuracy: 58.53441455696203 %\n",
      "Epoch: 7 \tTraining Loss: 0.975260 \tValidation Loss: 1.225534\n",
      "Accuracy: 71.11352848101266 %\n",
      "Epoch: 8 \tTraining Loss: 0.898276 \tValidation Loss: 0.799180\n",
      "Validation loss decreased (1.036932 --> 0.799180).  Saving model ...\n"
     ]
    },
    {
     "name": "stderr",
     "output_type": "stream",
     "text": [
      "  9%|▉         | 9/100 [05:40<58:40, 38.68s/it]"
     ]
    },
    {
     "name": "stdout",
     "output_type": "stream",
     "text": [
      "Accuracy: 67.53362341772151 %\n",
      "Epoch: 9 \tTraining Loss: 0.838278 \tValidation Loss: 0.920938\n"
     ]
    },
    {
     "name": "stderr",
     "output_type": "stream",
     "text": [
      " 10%|█         | 10/100 [06:17<57:17, 38.19s/it]"
     ]
    },
    {
     "name": "stdout",
     "output_type": "stream",
     "text": [
      "Accuracy: 70.45094936708861 %\n",
      "Epoch: 10 \tTraining Loss: 0.796479 \tValidation Loss: 0.872053\n",
      "Accuracy: 77.79865506329114 %\n",
      "Epoch: 11 \tTraining Loss: 0.751958 \tValidation Loss: 0.633663\n",
      "Validation loss decreased (0.799180 --> 0.633663).  Saving model ...\n"
     ]
    },
    {
     "name": "stderr",
     "output_type": "stream",
     "text": [
      " 12%|█▏        | 12/100 [07:35<56:17, 38.39s/it]"
     ]
    },
    {
     "name": "stdout",
     "output_type": "stream",
     "text": [
      "Accuracy: 74.4560917721519 %\n",
      "Epoch: 12 \tTraining Loss: 0.728342 \tValidation Loss: 0.759305\n"
     ]
    },
    {
     "name": "stderr",
     "output_type": "stream",
     "text": [
      " 13%|█▎        | 13/100 [08:11<54:42, 37.73s/it]"
     ]
    },
    {
     "name": "stdout",
     "output_type": "stream",
     "text": [
      "Accuracy: 72.66613924050633 %\n",
      "Epoch: 13 \tTraining Loss: 0.713302 \tValidation Loss: 0.812081\n"
     ]
    },
    {
     "name": "stderr",
     "output_type": "stream",
     "text": [
      " 14%|█▍        | 14/100 [08:47<53:30, 37.33s/it]"
     ]
    },
    {
     "name": "stdout",
     "output_type": "stream",
     "text": [
      "Accuracy: 70.7179588607595 %\n",
      "Epoch: 14 \tTraining Loss: 0.687236 \tValidation Loss: 0.911314\n",
      "Accuracy: 77.39319620253164 %\n",
      "Epoch: 15 \tTraining Loss: 0.667921 \tValidation Loss: 0.632683\n",
      "Validation loss decreased (0.633663 --> 0.632683).  Saving model ...\n"
     ]
    },
    {
     "name": "stderr",
     "output_type": "stream",
     "text": [
      " 16%|█▌        | 16/100 [10:01<51:44, 36.96s/it]"
     ]
    },
    {
     "name": "stdout",
     "output_type": "stream",
     "text": [
      "Accuracy: 77.63053797468355 %\n",
      "Epoch: 16 \tTraining Loss: 0.655304 \tValidation Loss: 0.669986\n"
     ]
    },
    {
     "name": "stderr",
     "output_type": "stream",
     "text": [
      " 17%|█▋        | 17/100 [10:40<52:01, 37.61s/it]"
     ]
    },
    {
     "name": "stdout",
     "output_type": "stream",
     "text": [
      "Accuracy: 76.60205696202532 %\n",
      "Epoch: 17 \tTraining Loss: 0.642805 \tValidation Loss: 0.697406\n"
     ]
    },
    {
     "name": "stderr",
     "output_type": "stream",
     "text": [
      " 18%|█▊        | 18/100 [11:17<51:16, 37.52s/it]"
     ]
    },
    {
     "name": "stdout",
     "output_type": "stream",
     "text": [
      "Accuracy: 75.28678797468355 %\n",
      "Epoch: 18 \tTraining Loss: 0.633807 \tValidation Loss: 0.732751\n",
      "Accuracy: 81.4873417721519 %\n",
      "Epoch: 19 \tTraining Loss: 0.612716 \tValidation Loss: 0.523484\n",
      "Validation loss decreased (0.632683 --> 0.523484).  Saving model ...\n"
     ]
    },
    {
     "name": "stderr",
     "output_type": "stream",
     "text": [
      " 19%|█▉        | 19/100 [11:54<50:28, 37.39s/it]"
     ]
    },
    {
     "name": "stdout",
     "output_type": "stream",
     "text": [
      "Accuracy: 81.51700949367088 %\n",
      "Epoch: 20 \tTraining Loss: 0.604460 \tValidation Loss: 0.508075\n",
      "Validation loss decreased (0.523484 --> 0.508075).  Saving model ...\n"
     ]
    },
    {
     "name": "stderr",
     "output_type": "stream",
     "text": [
      " 21%|██        | 21/100 [13:10<49:50, 37.85s/it]"
     ]
    },
    {
     "name": "stdout",
     "output_type": "stream",
     "text": [
      "Accuracy: 71.88488924050633 %\n",
      "Epoch: 21 \tTraining Loss: 0.596858 \tValidation Loss: 0.869435\n"
     ]
    },
    {
     "name": "stderr",
     "output_type": "stream",
     "text": [
      " 22%|██▏       | 22/100 [13:48<48:59, 37.68s/it]"
     ]
    },
    {
     "name": "stdout",
     "output_type": "stream",
     "text": [
      "Accuracy: 79.9940664556962 %\n",
      "Epoch: 22 \tTraining Loss: 0.594250 \tValidation Loss: 0.554106\n"
     ]
    },
    {
     "name": "stderr",
     "output_type": "stream",
     "text": [
      " 23%|██▎       | 23/100 [14:27<49:01, 38.21s/it]"
     ]
    },
    {
     "name": "stdout",
     "output_type": "stream",
     "text": [
      "Accuracy: 68.93789556962025 %\n",
      "Epoch: 23 \tTraining Loss: 0.579619 \tValidation Loss: 1.113698\n"
     ]
    },
    {
     "name": "stderr",
     "output_type": "stream",
     "text": [
      " 24%|██▍       | 24/100 [15:07<48:53, 38.60s/it]"
     ]
    },
    {
     "name": "stdout",
     "output_type": "stream",
     "text": [
      "Accuracy: 70.63884493670886 %\n",
      "Epoch: 24 \tTraining Loss: 0.570117 \tValidation Loss: 0.958020\n"
     ]
    },
    {
     "name": "stderr",
     "output_type": "stream",
     "text": [
      " 25%|██▌       | 25/100 [15:46<48:26, 38.76s/it]"
     ]
    },
    {
     "name": "stdout",
     "output_type": "stream",
     "text": [
      "Accuracy: 80.3698575949367 %\n",
      "Epoch: 25 \tTraining Loss: 0.572584 \tValidation Loss: 0.579248\n"
     ]
    },
    {
     "name": "stderr",
     "output_type": "stream",
     "text": [
      " 26%|██▌       | 26/100 [16:23<47:22, 38.41s/it]"
     ]
    },
    {
     "name": "stdout",
     "output_type": "stream",
     "text": [
      "Accuracy: 79.62816455696202 %\n",
      "Epoch: 26 \tTraining Loss: 0.562501 \tValidation Loss: 0.610938\n",
      "Accuracy: 84.36511075949367 %\n",
      "Epoch: 27 \tTraining Loss: 0.559054 \tValidation Loss: 0.429594\n",
      "Validation loss decreased (0.508075 --> 0.429594).  Saving model ...\n"
     ]
    },
    {
     "name": "stderr",
     "output_type": "stream",
     "text": [
      " 28%|██▊       | 28/100 [17:37<45:07, 37.61s/it]"
     ]
    },
    {
     "name": "stdout",
     "output_type": "stream",
     "text": [
      "Accuracy: 80.5379746835443 %\n",
      "Epoch: 28 \tTraining Loss: 0.553559 \tValidation Loss: 0.558965\n"
     ]
    },
    {
     "name": "stderr",
     "output_type": "stream",
     "text": [
      " 29%|██▉       | 29/100 [18:14<44:14, 37.38s/it]"
     ]
    },
    {
     "name": "stdout",
     "output_type": "stream",
     "text": [
      "Accuracy: 80.59731012658227 %\n",
      "Epoch: 29 \tTraining Loss: 0.548836 \tValidation Loss: 0.545946\n"
     ]
    },
    {
     "name": "stderr",
     "output_type": "stream",
     "text": [
      " 30%|███       | 30/100 [18:51<43:21, 37.16s/it]"
     ]
    },
    {
     "name": "stdout",
     "output_type": "stream",
     "text": [
      "Accuracy: 82.86194620253164 %\n",
      "Epoch: 30 \tTraining Loss: 0.540778 \tValidation Loss: 0.481596\n"
     ]
    },
    {
     "name": "stderr",
     "output_type": "stream",
     "text": [
      " 31%|███       | 31/100 [19:27<42:28, 36.93s/it]"
     ]
    },
    {
     "name": "stdout",
     "output_type": "stream",
     "text": [
      "Accuracy: 79.88528481012658 %\n",
      "Epoch: 31 \tTraining Loss: 0.538540 \tValidation Loss: 0.582291\n"
     ]
    },
    {
     "name": "stderr",
     "output_type": "stream",
     "text": [
      " 32%|███▏      | 32/100 [20:03<41:43, 36.81s/it]"
     ]
    },
    {
     "name": "stdout",
     "output_type": "stream",
     "text": [
      "Accuracy: 82.05102848101266 %\n",
      "Epoch: 32 \tTraining Loss: 0.534667 \tValidation Loss: 0.521068\n"
     ]
    },
    {
     "name": "stderr",
     "output_type": "stream",
     "text": [
      " 33%|███▎      | 33/100 [20:40<41:05, 36.80s/it]"
     ]
    },
    {
     "name": "stdout",
     "output_type": "stream",
     "text": [
      "Accuracy: 73.79351265822785 %\n",
      "Epoch: 33 \tTraining Loss: 0.526793 \tValidation Loss: 0.780165\n"
     ]
    },
    {
     "name": "stderr",
     "output_type": "stream",
     "text": [
      " 34%|███▍      | 34/100 [21:17<40:23, 36.72s/it]"
     ]
    },
    {
     "name": "stdout",
     "output_type": "stream",
     "text": [
      "Accuracy: 79.77650316455696 %\n",
      "Epoch: 34 \tTraining Loss: 0.533215 \tValidation Loss: 0.574928\n"
     ]
    },
    {
     "name": "stderr",
     "output_type": "stream",
     "text": [
      " 35%|███▌      | 35/100 [21:53<39:42, 36.66s/it]"
     ]
    },
    {
     "name": "stdout",
     "output_type": "stream",
     "text": [
      "Accuracy: 82.02136075949367 %\n",
      "Epoch: 35 \tTraining Loss: 0.534532 \tValidation Loss: 0.514805\n"
     ]
    },
    {
     "name": "stderr",
     "output_type": "stream",
     "text": [
      " 36%|███▌      | 36/100 [22:30<39:03, 36.61s/it]"
     ]
    },
    {
     "name": "stdout",
     "output_type": "stream",
     "text": [
      "Accuracy: 80.1621835443038 %\n",
      "Epoch: 36 \tTraining Loss: 0.518865 \tValidation Loss: 0.574628\n",
      "Accuracy: 84.86946202531645 %\n",
      "Epoch: 37 \tTraining Loss: 0.520540 \tValidation Loss: 0.417550\n",
      "Validation loss decreased (0.429594 --> 0.417550).  Saving model ...\n"
     ]
    },
    {
     "name": "stderr",
     "output_type": "stream",
     "text": [
      " 38%|███▊      | 38/100 [23:42<37:35, 36.38s/it]"
     ]
    },
    {
     "name": "stdout",
     "output_type": "stream",
     "text": [
      "Accuracy: 82.21914556962025 %\n",
      "Epoch: 38 \tTraining Loss: 0.524235 \tValidation Loss: 0.495757\n"
     ]
    },
    {
     "name": "stderr",
     "output_type": "stream",
     "text": [
      " 39%|███▉      | 39/100 [24:18<36:54, 36.30s/it]"
     ]
    },
    {
     "name": "stdout",
     "output_type": "stream",
     "text": [
      "Accuracy: 82.44659810126582 %\n",
      "Epoch: 39 \tTraining Loss: 0.518707 \tValidation Loss: 0.501670\n"
     ]
    },
    {
     "name": "stderr",
     "output_type": "stream",
     "text": [
      " 40%|████      | 40/100 [24:54<36:12, 36.20s/it]"
     ]
    },
    {
     "name": "stdout",
     "output_type": "stream",
     "text": [
      "Accuracy: 78.13488924050633 %\n",
      "Epoch: 40 \tTraining Loss: 0.523683 \tValidation Loss: 0.657837\n"
     ]
    },
    {
     "name": "stderr",
     "output_type": "stream",
     "text": [
      " 41%|████      | 41/100 [25:31<35:42, 36.31s/it]"
     ]
    },
    {
     "name": "stdout",
     "output_type": "stream",
     "text": [
      "Accuracy: 82.49604430379746 %\n",
      "Epoch: 41 \tTraining Loss: 0.520800 \tValidation Loss: 0.483794\n"
     ]
    },
    {
     "name": "stderr",
     "output_type": "stream",
     "text": [
      " 42%|████▏     | 42/100 [26:07<35:07, 36.34s/it]"
     ]
    },
    {
     "name": "stdout",
     "output_type": "stream",
     "text": [
      "Accuracy: 83.31685126582279 %\n",
      "Epoch: 42 \tTraining Loss: 0.502332 \tValidation Loss: 0.470932\n"
     ]
    },
    {
     "name": "stderr",
     "output_type": "stream",
     "text": [
      " 43%|████▎     | 43/100 [26:44<34:37, 36.45s/it]"
     ]
    },
    {
     "name": "stdout",
     "output_type": "stream",
     "text": [
      "Accuracy: 81.35878164556962 %\n",
      "Epoch: 43 \tTraining Loss: 0.510550 \tValidation Loss: 0.561645\n"
     ]
    },
    {
     "name": "stderr",
     "output_type": "stream",
     "text": [
      " 44%|████▍     | 44/100 [27:20<34:02, 36.47s/it]"
     ]
    },
    {
     "name": "stdout",
     "output_type": "stream",
     "text": [
      "Accuracy: 81.64556962025317 %\n",
      "Epoch: 44 \tTraining Loss: 0.505780 \tValidation Loss: 0.523922\n"
     ]
    },
    {
     "name": "stderr",
     "output_type": "stream",
     "text": [
      " 45%|████▌     | 45/100 [27:57<33:23, 36.43s/it]"
     ]
    },
    {
     "name": "stdout",
     "output_type": "stream",
     "text": [
      "Accuracy: 78.21400316455696 %\n",
      "Epoch: 45 \tTraining Loss: 0.503534 \tValidation Loss: 0.649474\n"
     ]
    },
    {
     "name": "stderr",
     "output_type": "stream",
     "text": [
      " 46%|████▌     | 46/100 [28:33<32:50, 36.48s/it]"
     ]
    },
    {
     "name": "stdout",
     "output_type": "stream",
     "text": [
      "Accuracy: 81.95213607594937 %\n",
      "Epoch: 46 \tTraining Loss: 0.506658 \tValidation Loss: 0.514182\n"
     ]
    },
    {
     "name": "stderr",
     "output_type": "stream",
     "text": [
      " 47%|████▋     | 47/100 [29:10<32:15, 36.52s/it]"
     ]
    },
    {
     "name": "stdout",
     "output_type": "stream",
     "text": [
      "Accuracy: 77.7195411392405 %\n",
      "Epoch: 47 \tTraining Loss: 0.501318 \tValidation Loss: 0.708908\n",
      "Accuracy: 86.3429588607595 %\n",
      "Epoch: 48 \tTraining Loss: 0.383435 \tValidation Loss: 0.387479\n",
      "Validation loss decreased (0.417550 --> 0.387479).  Saving model ...\n"
     ]
    },
    {
     "name": "stderr",
     "output_type": "stream",
     "text": [
      " 48%|████▊     | 48/100 [29:49<32:14, 37.20s/it]"
     ]
    },
    {
     "name": "stdout",
     "output_type": "stream",
     "text": [
      "Accuracy: 88.64715189873418 %\n",
      "Epoch: 49 \tTraining Loss: 0.356928 \tValidation Loss: 0.319311\n",
      "Validation loss decreased (0.387479 --> 0.319311).  Saving model ...\n"
     ]
    },
    {
     "name": "stderr",
     "output_type": "stream",
     "text": [
      " 49%|████▉     | 49/100 [30:27<31:54, 37.53s/it]"
     ]
    },
    {
     "name": "stdout",
     "output_type": "stream",
     "text": [
      "Accuracy: 88.49881329113924 %\n",
      "Epoch: 50 \tTraining Loss: 0.359976 \tValidation Loss: 0.313474\n",
      "Validation loss decreased (0.319311 --> 0.313474).  Saving model ...\n"
     ]
    },
    {
     "name": "stderr",
     "output_type": "stream",
     "text": [
      " 51%|█████     | 51/100 [31:41<30:27, 37.29s/it]"
     ]
    },
    {
     "name": "stdout",
     "output_type": "stream",
     "text": [
      "Accuracy: 86.47151898734177 %\n",
      "Epoch: 51 \tTraining Loss: 0.366304 \tValidation Loss: 0.370225\n"
     ]
    },
    {
     "name": "stderr",
     "output_type": "stream",
     "text": [
      " 52%|█████▏    | 52/100 [32:18<29:43, 37.16s/it]"
     ]
    },
    {
     "name": "stdout",
     "output_type": "stream",
     "text": [
      "Accuracy: 86.21439873417721 %\n",
      "Epoch: 52 \tTraining Loss: 0.365406 \tValidation Loss: 0.371662\n",
      "Accuracy: 89.00316455696202 %\n",
      "Epoch: 53 \tTraining Loss: 0.365927 \tValidation Loss: 0.295336\n",
      "Validation loss decreased (0.313474 --> 0.295336).  Saving model ...\n"
     ]
    },
    {
     "name": "stderr",
     "output_type": "stream",
     "text": [
      " 54%|█████▍    | 54/100 [33:32<28:30, 37.18s/it]"
     ]
    },
    {
     "name": "stdout",
     "output_type": "stream",
     "text": [
      "Accuracy: 86.08583860759494 %\n",
      "Epoch: 54 \tTraining Loss: 0.366973 \tValidation Loss: 0.392944\n"
     ]
    },
    {
     "name": "stderr",
     "output_type": "stream",
     "text": [
      " 55%|█████▌    | 55/100 [34:09<27:42, 36.93s/it]"
     ]
    },
    {
     "name": "stdout",
     "output_type": "stream",
     "text": [
      "Accuracy: 87.79667721518987 %\n",
      "Epoch: 55 \tTraining Loss: 0.363699 \tValidation Loss: 0.325730\n"
     ]
    },
    {
     "name": "stderr",
     "output_type": "stream",
     "text": [
      " 56%|█████▌    | 56/100 [34:47<27:25, 37.41s/it]"
     ]
    },
    {
     "name": "stdout",
     "output_type": "stream",
     "text": [
      "Accuracy: 87.82634493670886 %\n",
      "Epoch: 56 \tTraining Loss: 0.373367 \tValidation Loss: 0.337313\n"
     ]
    },
    {
     "name": "stderr",
     "output_type": "stream",
     "text": [
      " 57%|█████▋    | 57/100 [35:26<27:01, 37.72s/it]"
     ]
    },
    {
     "name": "stdout",
     "output_type": "stream",
     "text": [
      "Accuracy: 87.34177215189874 %\n",
      "Epoch: 57 \tTraining Loss: 0.369950 \tValidation Loss: 0.369354\n"
     ]
    },
    {
     "name": "stderr",
     "output_type": "stream",
     "text": [
      " 58%|█████▊    | 58/100 [36:02<26:09, 37.38s/it]"
     ]
    },
    {
     "name": "stdout",
     "output_type": "stream",
     "text": [
      "Accuracy: 85.03757911392405 %\n",
      "Epoch: 58 \tTraining Loss: 0.359753 \tValidation Loss: 0.420731\n"
     ]
    },
    {
     "name": "stderr",
     "output_type": "stream",
     "text": [
      " 59%|█████▉    | 59/100 [36:41<25:50, 37.81s/it]"
     ]
    },
    {
     "name": "stdout",
     "output_type": "stream",
     "text": [
      "Accuracy: 88.13291139240506 %\n",
      "Epoch: 59 \tTraining Loss: 0.368076 \tValidation Loss: 0.323496\n"
     ]
    },
    {
     "name": "stderr",
     "output_type": "stream",
     "text": [
      " 60%|██████    | 60/100 [37:19<25:11, 37.78s/it]"
     ]
    },
    {
     "name": "stdout",
     "output_type": "stream",
     "text": [
      "Accuracy: 87.94501582278481 %\n",
      "Epoch: 60 \tTraining Loss: 0.357933 \tValidation Loss: 0.318446\n"
     ]
    },
    {
     "name": "stderr",
     "output_type": "stream",
     "text": [
      " 61%|██████    | 61/100 [37:58<24:50, 38.21s/it]"
     ]
    },
    {
     "name": "stdout",
     "output_type": "stream",
     "text": [
      "Accuracy: 84.10799050632912 %\n",
      "Epoch: 61 \tTraining Loss: 0.366273 \tValidation Loss: 0.464579\n"
     ]
    },
    {
     "name": "stderr",
     "output_type": "stream",
     "text": [
      " 62%|██████▏   | 62/100 [38:37<24:16, 38.32s/it]"
     ]
    },
    {
     "name": "stdout",
     "output_type": "stream",
     "text": [
      "Accuracy: 87.41099683544304 %\n",
      "Epoch: 62 \tTraining Loss: 0.371694 \tValidation Loss: 0.357022\n"
     ]
    },
    {
     "name": "stderr",
     "output_type": "stream",
     "text": [
      " 63%|██████▎   | 63/100 [39:13<23:17, 37.78s/it]"
     ]
    },
    {
     "name": "stdout",
     "output_type": "stream",
     "text": [
      "Accuracy: 88.17246835443038 %\n",
      "Epoch: 63 \tTraining Loss: 0.362785 \tValidation Loss: 0.323303\n",
      "Accuracy: 91.27768987341773 %\n",
      "Epoch: 64 \tTraining Loss: 0.262625 \tValidation Loss: 0.219763\n",
      "Validation loss decreased (0.295336 --> 0.219763).  Saving model ...\n"
     ]
    },
    {
     "name": "stderr",
     "output_type": "stream",
     "text": [
      " 65%|██████▌   | 65/100 [40:26<21:41, 37.19s/it]"
     ]
    },
    {
     "name": "stdout",
     "output_type": "stream",
     "text": [
      "Accuracy: 91.17879746835443 %\n",
      "Epoch: 65 \tTraining Loss: 0.243971 \tValidation Loss: 0.235017\n"
     ]
    },
    {
     "name": "stderr",
     "output_type": "stream",
     "text": [
      " 66%|██████▌   | 66/100 [41:06<21:25, 37.82s/it]"
     ]
    },
    {
     "name": "stdout",
     "output_type": "stream",
     "text": [
      "Accuracy: 91.3370253164557 %\n",
      "Epoch: 66 \tTraining Loss: 0.247485 \tValidation Loss: 0.222872\n"
     ]
    },
    {
     "name": "stderr",
     "output_type": "stream",
     "text": [
      " 67%|██████▋   | 67/100 [41:45<21:00, 38.21s/it]"
     ]
    },
    {
     "name": "stdout",
     "output_type": "stream",
     "text": [
      "Accuracy: 91.46558544303798 %\n",
      "Epoch: 67 \tTraining Loss: 0.240794 \tValidation Loss: 0.231592\n"
     ]
    },
    {
     "name": "stderr",
     "output_type": "stream",
     "text": [
      " 68%|██████▊   | 68/100 [42:22<20:14, 37.97s/it]"
     ]
    },
    {
     "name": "stdout",
     "output_type": "stream",
     "text": [
      "Accuracy: 90.50632911392405 %\n",
      "Epoch: 68 \tTraining Loss: 0.238459 \tValidation Loss: 0.255109\n"
     ]
    },
    {
     "name": "stderr",
     "output_type": "stream",
     "text": [
      " 69%|██████▉   | 69/100 [42:58<19:18, 37.35s/it]"
     ]
    },
    {
     "name": "stdout",
     "output_type": "stream",
     "text": [
      "Accuracy: 90.70411392405063 %\n",
      "Epoch: 69 \tTraining Loss: 0.242071 \tValidation Loss: 0.254273\n",
      "Accuracy: 91.94026898734177 %\n",
      "Epoch: 70 \tTraining Loss: 0.237941 \tValidation Loss: 0.202736\n",
      "Validation loss decreased (0.219763 --> 0.202736).  Saving model ...\n"
     ]
    },
    {
     "name": "stderr",
     "output_type": "stream",
     "text": [
      " 71%|███████   | 71/100 [44:11<17:52, 37.00s/it]"
     ]
    },
    {
     "name": "stdout",
     "output_type": "stream",
     "text": [
      "Accuracy: 90.78322784810126 %\n",
      "Epoch: 71 \tTraining Loss: 0.246076 \tValidation Loss: 0.251875\n"
     ]
    },
    {
     "name": "stderr",
     "output_type": "stream",
     "text": [
      " 72%|███████▏  | 72/100 [44:47<17:06, 36.68s/it]"
     ]
    },
    {
     "name": "stdout",
     "output_type": "stream",
     "text": [
      "Accuracy: 90.57555379746836 %\n",
      "Epoch: 72 \tTraining Loss: 0.247964 \tValidation Loss: 0.257359\n"
     ]
    },
    {
     "name": "stderr",
     "output_type": "stream",
     "text": [
      " 73%|███████▎  | 73/100 [45:23<16:25, 36.49s/it]"
     ]
    },
    {
     "name": "stdout",
     "output_type": "stream",
     "text": [
      "Accuracy: 90.65466772151899 %\n",
      "Epoch: 73 \tTraining Loss: 0.246448 \tValidation Loss: 0.253000\n"
     ]
    },
    {
     "name": "stderr",
     "output_type": "stream",
     "text": [
      " 74%|███████▍  | 74/100 [45:59<15:44, 36.32s/it]"
     ]
    },
    {
     "name": "stdout",
     "output_type": "stream",
     "text": [
      "Accuracy: 91.0007911392405 %\n",
      "Epoch: 74 \tTraining Loss: 0.249183 \tValidation Loss: 0.250658\n"
     ]
    },
    {
     "name": "stderr",
     "output_type": "stream",
     "text": [
      " 75%|███████▌  | 75/100 [46:36<15:10, 36.43s/it]"
     ]
    },
    {
     "name": "stdout",
     "output_type": "stream",
     "text": [
      "Accuracy: 91.0007911392405 %\n",
      "Epoch: 75 \tTraining Loss: 0.246847 \tValidation Loss: 0.242367\n"
     ]
    },
    {
     "name": "stderr",
     "output_type": "stream",
     "text": [
      " 76%|███████▌  | 76/100 [47:12<14:32, 36.37s/it]"
     ]
    },
    {
     "name": "stdout",
     "output_type": "stream",
     "text": [
      "Accuracy: 90.90189873417721 %\n",
      "Epoch: 76 \tTraining Loss: 0.244605 \tValidation Loss: 0.244885\n"
     ]
    },
    {
     "name": "stderr",
     "output_type": "stream",
     "text": [
      " 77%|███████▋  | 77/100 [47:48<13:54, 36.29s/it]"
     ]
    },
    {
     "name": "stdout",
     "output_type": "stream",
     "text": [
      "Accuracy: 90.17009493670886 %\n",
      "Epoch: 77 \tTraining Loss: 0.247707 \tValidation Loss: 0.253833\n"
     ]
    },
    {
     "name": "stderr",
     "output_type": "stream",
     "text": [
      " 78%|███████▊  | 78/100 [48:24<13:16, 36.19s/it]"
     ]
    },
    {
     "name": "stdout",
     "output_type": "stream",
     "text": [
      "Accuracy: 90.98101265822785 %\n",
      "Epoch: 78 \tTraining Loss: 0.242977 \tValidation Loss: 0.238221\n"
     ]
    },
    {
     "name": "stderr",
     "output_type": "stream",
     "text": [
      " 79%|███████▉  | 79/100 [49:01<12:41, 36.24s/it]"
     ]
    },
    {
     "name": "stdout",
     "output_type": "stream",
     "text": [
      "Accuracy: 89.78441455696202 %\n",
      "Epoch: 79 \tTraining Loss: 0.245449 \tValidation Loss: 0.295868\n"
     ]
    },
    {
     "name": "stderr",
     "output_type": "stream",
     "text": [
      " 80%|████████  | 80/100 [49:37<12:07, 36.37s/it]"
     ]
    },
    {
     "name": "stdout",
     "output_type": "stream",
     "text": [
      "Accuracy: 90.32832278481013 %\n",
      "Epoch: 80 \tTraining Loss: 0.241570 \tValidation Loss: 0.261126\n",
      "Accuracy: 92.95886075949367 %\n",
      "Epoch: 81 \tTraining Loss: 0.178194 \tValidation Loss: 0.181792\n",
      "Validation loss decreased (0.202736 --> 0.181792).  Saving model ...\n"
     ]
    },
    {
     "name": "stderr",
     "output_type": "stream",
     "text": [
      " 81%|████████  | 81/100 [50:14<11:34, 36.55s/it]"
     ]
    },
    {
     "name": "stdout",
     "output_type": "stream",
     "text": [
      "Accuracy: 93.23575949367088 %\n",
      "Epoch: 82 \tTraining Loss: 0.156351 \tValidation Loss: 0.171107\n",
      "Validation loss decreased (0.181792 --> 0.171107).  Saving model ...\n"
     ]
    },
    {
     "name": "stderr",
     "output_type": "stream",
     "text": [
      " 83%|████████▎ | 83/100 [51:27<10:21, 36.54s/it]"
     ]
    },
    {
     "name": "stdout",
     "output_type": "stream",
     "text": [
      "Accuracy: 92.4940664556962 %\n",
      "Epoch: 83 \tTraining Loss: 0.155772 \tValidation Loss: 0.198652\n"
     ]
    },
    {
     "name": "stderr",
     "output_type": "stream",
     "text": [
      " 84%|████████▍ | 84/100 [52:04<09:44, 36.54s/it]"
     ]
    },
    {
     "name": "stdout",
     "output_type": "stream",
     "text": [
      "Accuracy: 93.2753164556962 %\n",
      "Epoch: 84 \tTraining Loss: 0.158871 \tValidation Loss: 0.179463\n"
     ]
    },
    {
     "name": "stderr",
     "output_type": "stream",
     "text": [
      " 85%|████████▌ | 85/100 [52:40<09:05, 36.36s/it]"
     ]
    },
    {
     "name": "stdout",
     "output_type": "stream",
     "text": [
      "Accuracy: 92.5929588607595 %\n",
      "Epoch: 85 \tTraining Loss: 0.150386 \tValidation Loss: 0.197031\n"
     ]
    },
    {
     "name": "stderr",
     "output_type": "stream",
     "text": [
      " 86%|████████▌ | 86/100 [53:16<08:28, 36.33s/it]"
     ]
    },
    {
     "name": "stdout",
     "output_type": "stream",
     "text": [
      "Accuracy: 92.48417721518987 %\n",
      "Epoch: 86 \tTraining Loss: 0.151803 \tValidation Loss: 0.192303\n"
     ]
    },
    {
     "name": "stderr",
     "output_type": "stream",
     "text": [
      " 87%|████████▋ | 87/100 [53:53<07:52, 36.33s/it]"
     ]
    },
    {
     "name": "stdout",
     "output_type": "stream",
     "text": [
      "Accuracy: 93.33465189873418 %\n",
      "Epoch: 87 \tTraining Loss: 0.149417 \tValidation Loss: 0.172061\n"
     ]
    },
    {
     "name": "stderr",
     "output_type": "stream",
     "text": [
      " 88%|████████▊ | 88/100 [54:29<07:16, 36.40s/it]"
     ]
    },
    {
     "name": "stdout",
     "output_type": "stream",
     "text": [
      "Accuracy: 92.41495253164557 %\n",
      "Epoch: 88 \tTraining Loss: 0.148384 \tValidation Loss: 0.203027\n"
     ]
    },
    {
     "name": "stderr",
     "output_type": "stream",
     "text": [
      " 89%|████████▉ | 89/100 [55:05<06:39, 36.36s/it]"
     ]
    },
    {
     "name": "stdout",
     "output_type": "stream",
     "text": [
      "Accuracy: 92.94897151898734 %\n",
      "Epoch: 89 \tTraining Loss: 0.144414 \tValidation Loss: 0.181817\n"
     ]
    },
    {
     "name": "stderr",
     "output_type": "stream",
     "text": [
      " 90%|█████████ | 90/100 [55:42<06:03, 36.30s/it]"
     ]
    },
    {
     "name": "stdout",
     "output_type": "stream",
     "text": [
      "Accuracy: 93.15664556962025 %\n",
      "Epoch: 90 \tTraining Loss: 0.151795 \tValidation Loss: 0.185086\n"
     ]
    },
    {
     "name": "stderr",
     "output_type": "stream",
     "text": [
      " 91%|█████████ | 91/100 [56:18<05:26, 36.26s/it]"
     ]
    },
    {
     "name": "stdout",
     "output_type": "stream",
     "text": [
      "Accuracy: 92.61273734177215 %\n",
      "Epoch: 91 \tTraining Loss: 0.153076 \tValidation Loss: 0.196002\n"
     ]
    },
    {
     "name": "stderr",
     "output_type": "stream",
     "text": [
      " 92%|█████████▏| 92/100 [56:54<04:49, 36.18s/it]"
     ]
    },
    {
     "name": "stdout",
     "output_type": "stream",
     "text": [
      "Accuracy: 92.74129746835443 %\n",
      "Epoch: 92 \tTraining Loss: 0.151387 \tValidation Loss: 0.197884\n",
      "Accuracy: 94.00712025316456 %\n",
      "Epoch: 93 \tTraining Loss: 0.113192 \tValidation Loss: 0.155822\n",
      "Validation loss decreased (0.171107 --> 0.155822).  Saving model ...\n"
     ]
    },
    {
     "name": "stderr",
     "output_type": "stream",
     "text": [
      " 94%|█████████▍| 94/100 [58:06<03:37, 36.29s/it]"
     ]
    },
    {
     "name": "stdout",
     "output_type": "stream",
     "text": [
      "Accuracy: 94.06645569620254 %\n",
      "Epoch: 94 \tTraining Loss: 0.102553 \tValidation Loss: 0.158883\n",
      "Accuracy: 94.20490506329114 %\n",
      "Epoch: 95 \tTraining Loss: 0.099074 \tValidation Loss: 0.153291\n",
      "Validation loss decreased (0.155822 --> 0.153291).  Saving model ...\n"
     ]
    },
    {
     "name": "stderr",
     "output_type": "stream",
     "text": [
      " 96%|█████████▌| 96/100 [59:19<02:25, 36.38s/it]"
     ]
    },
    {
     "name": "stdout",
     "output_type": "stream",
     "text": [
      "Accuracy: 93.75988924050633 %\n",
      "Epoch: 96 \tTraining Loss: 0.093650 \tValidation Loss: 0.165284\n"
     ]
    },
    {
     "name": "stderr",
     "output_type": "stream",
     "text": [
      " 97%|█████████▋| 97/100 [59:56<01:49, 36.53s/it]"
     ]
    },
    {
     "name": "stdout",
     "output_type": "stream",
     "text": [
      "Accuracy: 93.87856012658227 %\n",
      "Epoch: 97 \tTraining Loss: 0.090895 \tValidation Loss: 0.160520\n"
     ]
    },
    {
     "name": "stderr",
     "output_type": "stream",
     "text": [
      " 98%|█████████▊| 98/100 [1:00:33<01:13, 36.52s/it]"
     ]
    },
    {
     "name": "stdout",
     "output_type": "stream",
     "text": [
      "Accuracy: 93.73022151898734 %\n",
      "Epoch: 98 \tTraining Loss: 0.091035 \tValidation Loss: 0.169060\n"
     ]
    },
    {
     "name": "stderr",
     "output_type": "stream",
     "text": [
      " 99%|█████████▉| 99/100 [1:01:09<00:36, 36.50s/it]"
     ]
    },
    {
     "name": "stdout",
     "output_type": "stream",
     "text": [
      "Accuracy: 94.07634493670886 %\n",
      "Epoch: 99 \tTraining Loss: 0.089447 \tValidation Loss: 0.160310\n"
     ]
    },
    {
     "name": "stderr",
     "output_type": "stream",
     "text": [
      "100%|██████████| 100/100 [1:01:46<00:00, 37.07s/it]"
     ]
    },
    {
     "name": "stdout",
     "output_type": "stream",
     "text": [
      "Accuracy: 93.8192246835443 %\n",
      "Epoch: 100 \tTraining Loss: 0.088318 \tValidation Loss: 0.165845\n"
     ]
    },
    {
     "name": "stderr",
     "output_type": "stream",
     "text": [
      "\n"
     ]
    }
   ],
   "source": [
    "for epoch in tqdm(range(1, n_epochs+1)):\n",
    "\n",
    "    # keep track of training and validation loss\n",
    "    train_loss = 0.0\n",
    "    valid_loss = 0.0\n",
    "    total_sample = 0\n",
    "    right_sample = 0\n",
    "    \n",
    "    #dynamic lr\n",
    "    if counter/10 ==1:\n",
    "        counter = 0\n",
    "        lr = lr*0.5\n",
    "    optimizer = optim.SGD(model.parameters(), lr=lr, momentum=0.9, weight_decay=5e-4)\n",
    "    ###################\n",
    "    # model from train set#\n",
    "    ###################\n",
    "    model.train() \n",
    "    for data, target in train_loader:\n",
    "        data = data.to(device)\n",
    "        target = target.to(device)\n",
    "        # clear the gradients of all optimized variables\n",
    "        optimizer.zero_grad()\n",
    "        # forward pass: compute predicted outputs by passing inputs to the model\n",
    "        output = model(data).to(device) \n",
    "        # calculate the batch loss\n",
    "        loss = criterion(output, target)\n",
    "        # backward pass: compute gradient of the loss with respect to model parameters\n",
    "        loss.backward()\n",
    "        # perform a single optimization step (parameter update)\n",
    "        optimizer.step()\n",
    "        # update training loss\n",
    "        train_loss += loss.item()*data.size(0)\n",
    "        \n",
    "    ######################    \n",
    "    # Validating models#\n",
    "    ######################\n",
    "\n",
    "    model.eval()  \n",
    "    for data, target in valid_loader:\n",
    "        data = data.to(device)\n",
    "        target = target.to(device)\n",
    "        # forward pass: compute predicted outputs by passing inputs to the model\n",
    "        output = model(data).to(device)\n",
    "        # calculate the batch loss\n",
    "        loss = criterion(output, target)\n",
    "        # update average validation loss \n",
    "        valid_loss += loss.item()*data.size(0)\n",
    "        # convert output probabilities to predicted class\n",
    "        _, pred = torch.max(output, 1)    \n",
    "        # compare predictions to true label\n",
    "        correct_tensor = pred.eq(target.data.view_as(pred))\n",
    "        # correct = np.squeeze(correct_tensor.to(device).numpy())\n",
    "        total_sample += batch_size\n",
    "        for i in correct_tensor:\n",
    "            if i:\n",
    "                right_sample += 1\n",
    "    print(\"Accuracy:\",100*right_sample/total_sample,\"%\")\n",
    "    accuracy.append(right_sample/total_sample)\n",
    "  \n",
    "    # Calculate the average loss\n",
    "    train_loss = train_loss/len(train_loader.sampler)\n",
    "    valid_loss = valid_loss/len(valid_loader.sampler)\n",
    "    trainloss_list.append(train_loss)\n",
    "    validloss_list.append(valid_loss)\n",
    "        \n",
    "    # Print loss\n",
    "    print('Epoch: {} \\tTraining Loss: {:.6f} \\tValidation Loss: {:.6f}'.format(\n",
    "        epoch, train_loss, valid_loss))\n",
    "    \n",
    "    # Save model when the validation loss decrease\n",
    "    if valid_loss <= valid_loss_min:\n",
    "        print('Validation loss decreased ({:.6f} --> {:.6f}).  Saving model ...'.format(valid_loss_min,valid_loss))\n",
    "        torch.save(model.state_dict(), 'checkpoint/resnet18_cifar10.pt')\n",
    "        valid_loss_min = valid_loss\n",
    "        counter = 0\n",
    "    else:\n",
    "        counter += 1"
   ]
  },
  {
   "cell_type": "code",
   "execution_count": 32,
   "metadata": {},
   "outputs": [
    {
     "name": "stdout",
     "output_type": "stream",
     "text": [
      "Best Accuracy: 94.20490506329115 %\n"
     ]
    }
   ],
   "source": [
    "#Print best accuray\n",
    "print(\"Best Accuracy:\", 100 * max(accuracy), \"%\")\n"
   ]
  },
  {
   "cell_type": "code",
   "execution_count": 33,
   "metadata": {},
   "outputs": [
    {
     "data": {
      "image/png": "[encoded data removed]",
      "text/plain": [
       "<Figure size 640x480 with 1 Axes>"
      ]
     },
     "metadata": {},
     "output_type": "display_data"
    }
   ],
   "source": [
    "# Plotting the training and validation losses\n",
    "import matplotlib.pyplot as plt\n",
    "\n",
    "plt.plot(range(1, n_epochs+1), trainloss_list, label='Training Loss')\n",
    "plt.plot(range(1, n_epochs+1), validloss_list, label='Validation Loss')\n",
    "plt.xlabel('Epoch')\n",
    "plt.ylabel('Loss')\n",
    "plt.title('Training and Validation Losses')\n",
    "plt.legend()\n",
    "plt.show()\n"
   ]
  },
  {
   "cell_type": "code",
   "execution_count": 34,
   "metadata": {},
   "outputs": [
    {
     "name": "stdout",
     "output_type": "stream",
     "text": [
      "Total number of parameters:  11173962\n"
     ]
    }
   ],
   "source": [
    "# Model size 11173962\n",
    "total_params = sum(p.numel() for p in model.parameters())\n",
    "print(\"Total number of parameters: \", total_params)\n"
   ]
  }
 ],
 "metadata": {
  "kernelspec": {
   "display_name": "myenv2",
   "language": "python",
   "name": "python3"
  },
  "language_info": {
   "codemirror_mode": {
    "name": "ipython",
    "version": 3
   },
   "file_extension": ".py",
   "mimetype": "text/x-python",
   "name": "python",
   "nbconvert_exporter": "python",
   "pygments_lexer": "ipython3",
   "version": "3.9.12"
  }
 },
 "nbformat": 4,
 "nbformat_minor": 2
}
